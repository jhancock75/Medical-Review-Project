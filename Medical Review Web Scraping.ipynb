{
 "cells": [
  {
   "cell_type": "markdown",
   "metadata": {},
   "source": [
    "# Medical Review Web Scraping"
   ]
  },
  {
   "cell_type": "code",
   "execution_count": 5,
   "metadata": {},
   "outputs": [],
   "source": [
    "from bs4 import BeautifulSoup\n",
    "import requests"
   ]
  },
  {
   "cell_type": "markdown",
   "metadata": {},
   "source": [
    "### Healthgrades.com"
   ]
  },
  {
   "cell_type": "code",
   "execution_count": 6,
   "metadata": {},
   "outputs": [
    {
     "data": {
      "text/plain": [
       "\"Dr. Lynch specializes in Lyme and heavy metals. He is extremely knowledgeable about both. However, he doesn't know as much about other toxicities. He answers all questions thoroughly and respectfully. I would definitely recommend him, but good luck getting an appointment. He is booked for 6 months out. Excellent staff, just not enough doctors. For a business with MCS patients I'm surprised they have carpets and ceiling tiles, both highly toxic.\""
      ]
     },
     "execution_count": 6,
     "metadata": {},
     "output_type": "execute_result"
    }
   ],
   "source": [
    "html_text = requests.get('https://www.healthgrades.com/physician/dr-darren-lynch-2qy2c').text\n",
    "soup = BeautifulSoup(html_text, 'lxml')\n",
    "review = soup.find('div', class_ = 'c-single-comment__comment').text\n",
    "review"
   ]
  },
  {
   "cell_type": "code",
   "execution_count": 3,
   "metadata": {},
   "outputs": [
    {
     "data": {
      "text/plain": [
       "'Very caring and not afraid to refer you to a specialist.\\nNice caring doctor and man, listens well.\\n'"
      ]
     },
     "execution_count": 3,
     "metadata": {},
     "output_type": "execute_result"
    }
   ],
   "source": [
    "html_text = requests.get('https://www.healthgrades.com/physician/dr-paul-baecher-xcfrf').text\n",
    "soup = BeautifulSoup(html_text, 'lxml')\n",
    "review = soup.find('div', class_ = 'c-single-comment__comment').text\n",
    "review"
   ]
  },
  {
   "cell_type": "code",
   "execution_count": 4,
   "metadata": {},
   "outputs": [
    {
     "data": {
      "text/plain": [
       "'Dr. Paul Baecher, MD'"
      ]
     },
     "execution_count": 4,
     "metadata": {},
     "output_type": "execute_result"
    }
   ],
   "source": [
    "html_text = requests.get('https://www.healthgrades.com/physician/dr-paul-baecher-xcfrf').text\n",
    "soup = BeautifulSoup(html_text, 'lxml')\n",
    "doctors = soup.find_all('li', class_ = 'breadcrumb-link-container')[3]\n",
    "doctor_name = doctors.find('a', class_ = 'breadcrumb-current-page breadcrumb-link').text\n",
    "doctor_name\n",
    "# doctors"
   ]
  },
  {
   "cell_type": "code",
   "execution_count": 68,
   "metadata": {},
   "outputs": [
    {
     "data": {
      "text/plain": [
       "'Dr. Katherine Atkinson, MD'"
      ]
     },
     "execution_count": 68,
     "metadata": {},
     "output_type": "execute_result"
    }
   ],
   "source": [
    "html_text = requests.get('https://www.healthgrades.com/physician/dr-katherine-atkinson-yfh7p').text\n",
    "soup = BeautifulSoup(html_text, 'lxml')\n",
    "doctors = soup.find_all('li', class_ = 'breadcrumb-link-container')[3]\n",
    "doctor_name = doctors.find('a', class_ = 'breadcrumb-current-page breadcrumb-link').text\n",
    "doctor_name\n",
    "# doctors"
   ]
  },
  {
   "cell_type": "code",
   "execution_count": 35,
   "metadata": {},
   "outputs": [
    {
     "ename": "AttributeError",
     "evalue": "'NoneType' object has no attribute 'find'",
     "output_type": "error",
     "traceback": [
      "\u001b[1;31m---------------------------------------------------------------------------\u001b[0m",
      "\u001b[1;31mAttributeError\u001b[0m                            Traceback (most recent call last)",
      "\u001b[1;32m<ipython-input-35-0fe704f7377c>\u001b[0m in \u001b[0;36m<module>\u001b[1;34m\u001b[0m\n\u001b[0;32m      2\u001b[0m \u001b[0msoup\u001b[0m \u001b[1;33m=\u001b[0m \u001b[0mBeautifulSoup\u001b[0m\u001b[1;33m(\u001b[0m\u001b[0mhtml_text\u001b[0m\u001b[1;33m,\u001b[0m \u001b[1;34m'lxml'\u001b[0m\u001b[1;33m)\u001b[0m\u001b[1;33m\u001b[0m\u001b[1;33m\u001b[0m\u001b[0m\n\u001b[0;32m      3\u001b[0m \u001b[0mdoctor1\u001b[0m \u001b[1;33m=\u001b[0m \u001b[0msoup\u001b[0m\u001b[1;33m.\u001b[0m\u001b[0mfind\u001b[0m\u001b[1;33m(\u001b[0m\u001b[1;34m'li'\u001b[0m\u001b[1;33m,\u001b[0m \u001b[0mclass_\u001b[0m \u001b[1;33m=\u001b[0m \u001b[1;34m'breadcrub-link-container'\u001b[0m\u001b[1;33m)\u001b[0m\u001b[1;33m\u001b[0m\u001b[1;33m\u001b[0m\u001b[0m\n\u001b[1;32m----> 4\u001b[1;33m \u001b[0mdoctor\u001b[0m \u001b[1;33m=\u001b[0m \u001b[0mdoctor1\u001b[0m\u001b[1;33m.\u001b[0m\u001b[0mfind\u001b[0m\u001b[1;33m(\u001b[0m\u001b[1;34m'span'\u001b[0m\u001b[1;33m,\u001b[0m \u001b[0mclass_\u001b[0m \u001b[1;33m=\u001b[0m \u001b[1;34m'page'\u001b[0m\u001b[1;33m)\u001b[0m\u001b[1;33m\u001b[0m\u001b[1;33m\u001b[0m\u001b[0m\n\u001b[0m\u001b[0;32m      5\u001b[0m \u001b[1;31m# review = soup.find('div', class_ = 'c-single-comment__comment').text\u001b[0m\u001b[1;33m\u001b[0m\u001b[1;33m\u001b[0m\u001b[1;33m\u001b[0m\u001b[0m\n\u001b[0;32m      6\u001b[0m \u001b[0mprint\u001b[0m\u001b[1;33m(\u001b[0m\u001b[0mdoctor\u001b[0m\u001b[1;33m)\u001b[0m\u001b[1;33m\u001b[0m\u001b[1;33m\u001b[0m\u001b[0m\n",
      "\u001b[1;31mAttributeError\u001b[0m: 'NoneType' object has no attribute 'find'"
     ]
    }
   ],
   "source": [
    "html_text = requests.get('https://www.healthgrades.com/physician/dr-paul-baecher-xcfrf').text\n",
    "soup = BeautifulSoup(html_text, 'lxml')\n",
    "doctor1 = soup.find('li', class_ = 'breadcrub-link-container')\n",
    "doctor = doctor1.find('span', class_ = 'page')\n",
    "# review = soup.find('div', class_ = 'c-single-comment__comment').text\n",
    "print(doctor)"
   ]
  }
 ],
 "metadata": {
  "kernelspec": {
   "display_name": "Python 3.7.3 64-bit ('Jake': virtualenv)",
   "language": "python",
   "name": "python37364bitjakevirtualenva999d178dd1742efb4d074a8c2cbff29"
  },
  "language_info": {
   "codemirror_mode": {
    "name": "ipython",
    "version": 3
   },
   "file_extension": ".py",
   "mimetype": "text/x-python",
   "name": "python",
   "nbconvert_exporter": "python",
   "pygments_lexer": "ipython3",
   "version": "3.7.9"
  }
 },
 "nbformat": 4,
 "nbformat_minor": 4
}
