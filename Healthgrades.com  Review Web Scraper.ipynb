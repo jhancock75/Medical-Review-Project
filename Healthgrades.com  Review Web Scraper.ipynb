{
 "cells": [
  {
   "cell_type": "markdown",
   "metadata": {},
   "source": [
    "# Healthgrades.com Review Web Scraper"
   ]
  },
  {
   "cell_type": "markdown",
   "metadata": {},
   "source": [
    "By Jacob Hancock"
   ]
  },
  {
   "cell_type": "markdown",
   "metadata": {},
   "source": [
    "### Import Required Packages"
   ]
  },
  {
   "cell_type": "code",
   "execution_count": 58,
   "metadata": {},
   "outputs": [],
   "source": [
    "from bs4 import BeautifulSoup\n",
    "import requests\n",
    "import pandas as pd"
   ]
  },
  {
   "cell_type": "code",
   "execution_count": 89,
   "metadata": {
    "scrolled": true
   },
   "outputs": [
    {
     "data": {
      "text/plain": [
       "<Response [200]>"
      ]
     },
     "execution_count": 89,
     "metadata": {},
     "output_type": "execute_result"
    }
   ],
   "source": [
    "html_text = requests.get('https://www.healthgrades.com/family-practice-directory')\n",
    "html_text"
   ]
  },
  {
   "cell_type": "markdown",
   "metadata": {},
   "source": [
    "Response [200] means we have access to scrape the website."
   ]
  },
  {
   "cell_type": "code",
   "execution_count": 140,
   "metadata": {},
   "outputs": [],
   "source": [
    "html_text = requests.get('https://www.healthgrades.com/family-practice-directory').text\n",
    "soup = BeautifulSoup(html_text, 'lxml')\n",
    "doctors = soup.find_all('div', class_ = 'sd-provider-card')"
   ]
  },
  {
   "cell_type": "markdown",
   "metadata": {},
   "source": [
    "Initialize dataframes "
   ]
  },
  {
   "cell_type": "code",
   "execution_count": 141,
   "metadata": {},
   "outputs": [],
   "source": [
    "Review_texts = []\n",
    "Review_rating = []\n",
    "Review_dates = []\n",
    "Number_of_reviews = []\n",
    "Physician_names = []\n",
    "Physician_specialty = []\n",
    "Physician_location = []\n",
    "Physician_sex = []"
   ]
  },
  {
   "cell_type": "code",
   "execution_count": 148,
   "metadata": {
    "scrolled": true
   },
   "outputs": [],
   "source": [
    "for doctor in doctors:\n",
    "    doctor_name = doctor.find('a', class_ = '_1qaR5')['aria-label']\n",
    "    doctor_location = doctor.find('div', class_ = 'directory-card-location__office-loc').find_next('span').find_next('span').find_next('span').text\n",
    "    link = 'https://www.healthgrades.com/' + doctor.find('a', class_ = '_1qaR5')['href']\n",
    "    link_text = requests.get(link).text\n",
    "    doctor_link = BeautifulSoup(link_text, 'lxml') \n",
    "    review_all = doctor_link.find_all('div', class_ = 'c-single-comment')\n",
    "    num_reviews = len(review_all)\n",
    "    doctors_specialty = doctor.find('div', class_ = 'provider-details__subtitle').find_next('span').text\n",
    "    try: \n",
    "        doctors_sex = doctor_link.find('div', class_ = 'summary-column').find_next('span').find_next('span').find_next('span').text\n",
    "    except:\n",
    "        doctors_sex = doctor_link.find('div', class_ = 'summary-designated-header-image-container').find_next('span').find_next('span').find_next('span').text\n",
    "    for review in review_all:\n",
    "        Physician_sex.append(doctors_sex)\n",
    "        Number_of_reviews.append(num_reviews)\n",
    "        Physician_names.append(doctor_name)\n",
    "        Physician_location.append(doctor_location)\n",
    "        Physician_specialty.append(doctors_specialty)\n",
    "        reviews = review.find('div', class_ = 'c-single-comment__comment').text\n",
    "        Review_texts.append(reviews)\n",
    "        review_dates = review.find('div', class_ = 'c-single-comment__commenter-info').find_next('span').find_next('span').text\n",
    "        Review_dates.append(review_dates)\n",
    "        review_rating = review.find('span', class_ = 's6RLV')[\"aria-label\"]\n",
    "        Review_rating.append(review_rating)"
   ]
  },
  {
   "cell_type": "code",
   "execution_count": 145,
   "metadata": {
    "scrolled": true
   },
   "outputs": [],
   "source": [
    "Review_Dates = pd.Series(Review_dates, dtype = \"string\", name = \"Review Date\")\n",
    "Review_Texts = pd.Series(Review_texts, dtype = \"string\", name = \"Review Text\")\n",
    "Physician_Names = pd.Series(Physician_names, dtype = \"string\", name = \"Physician Name\")\n",
    "Physician_Location = pd.Series(Physician_location, dtype = \"string\", name = \"Physician Location\")\n",
    "Physician_Specialty = pd.Series(Physician_specialty, dtype = \"string\", name = \"Physician Specialty\")\n",
    "Review_Rating = pd.Series(Review_rating, dtype = \"string\", name = \"Review Rating\")\n",
    "Physician_Sex = pd.Series(Physician_sex, dtype = \"string\", name = \"Physician Sex\")\n",
    "Number_of_Reviews = pd.Series(Number_of_reviews, dtype = \"string\", name = \"Number of Reviews\")"
   ]
  },
  {
   "cell_type": "code",
   "execution_count": 146,
   "metadata": {
    "scrolled": true
   },
   "outputs": [
    {
     "data": {
      "text/html": [
       "<div>\n",
       "<style scoped>\n",
       "    .dataframe tbody tr th:only-of-type {\n",
       "        vertical-align: middle;\n",
       "    }\n",
       "\n",
       "    .dataframe tbody tr th {\n",
       "        vertical-align: top;\n",
       "    }\n",
       "\n",
       "    .dataframe thead th {\n",
       "        text-align: right;\n",
       "    }\n",
       "</style>\n",
       "<table border=\"1\" class=\"dataframe\">\n",
       "  <thead>\n",
       "    <tr style=\"text-align: right;\">\n",
       "      <th></th>\n",
       "      <th>Physician Name</th>\n",
       "      <th>Physician Sex</th>\n",
       "      <th>Physician Location</th>\n",
       "      <th>Physician Specialty</th>\n",
       "      <th>Number of Reviews</th>\n",
       "      <th>Review Date</th>\n",
       "      <th>Review Text</th>\n",
       "      <th>Review Rating</th>\n",
       "    </tr>\n",
       "  </thead>\n",
       "  <tbody>\n",
       "    <tr>\n",
       "      <th>0</th>\n",
       "      <td>Dr. Marc Harwood, MD</td>\n",
       "      <td>Male</td>\n",
       "      <td>Philadelphia, PA 19107</td>\n",
       "      <td>Sports Medicine</td>\n",
       "      <td>20</td>\n",
       "      <td>Jan 15, 2021</td>\n",
       "      <td>Dr Harwood was fully understanding of the issu...</td>\n",
       "      <td>Rated 5 out of 5</td>\n",
       "    </tr>\n",
       "    <tr>\n",
       "      <th>1</th>\n",
       "      <td>Dr. Marc Harwood, MD</td>\n",
       "      <td>Male</td>\n",
       "      <td>Philadelphia, PA 19107</td>\n",
       "      <td>Sports Medicine</td>\n",
       "      <td>20</td>\n",
       "      <td>Jan 08, 2021</td>\n",
       "      <td>I was having elbow pain for several months and...</td>\n",
       "      <td>Rated 5 out of 5</td>\n",
       "    </tr>\n",
       "    <tr>\n",
       "      <th>2</th>\n",
       "      <td>Dr. Marc Harwood, MD</td>\n",
       "      <td>Male</td>\n",
       "      <td>Philadelphia, PA 19107</td>\n",
       "      <td>Sports Medicine</td>\n",
       "      <td>20</td>\n",
       "      <td>Oct 11, 2020</td>\n",
       "      <td>Dr Harwood listened to my concerns, explained ...</td>\n",
       "      <td>Rated 5 out of 5</td>\n",
       "    </tr>\n",
       "    <tr>\n",
       "      <th>3</th>\n",
       "      <td>Dr. Marc Harwood, MD</td>\n",
       "      <td>Male</td>\n",
       "      <td>Philadelphia, PA 19107</td>\n",
       "      <td>Sports Medicine</td>\n",
       "      <td>20</td>\n",
       "      <td>Oct 10, 2020</td>\n",
       "      <td>Minimal wait time . Great Doctor !  Clean envi...</td>\n",
       "      <td>Rated 5 out of 5</td>\n",
       "    </tr>\n",
       "    <tr>\n",
       "      <th>4</th>\n",
       "      <td>Dr. Marc Harwood, MD</td>\n",
       "      <td>Male</td>\n",
       "      <td>Philadelphia, PA 19107</td>\n",
       "      <td>Sports Medicine</td>\n",
       "      <td>20</td>\n",
       "      <td>Sep 05, 2020</td>\n",
       "      <td>Fantastic, conscious doctor.  Dr. Harwood take...</td>\n",
       "      <td>Rated 5 out of 5</td>\n",
       "    </tr>\n",
       "    <tr>\n",
       "      <th>...</th>\n",
       "      <td>...</td>\n",
       "      <td>...</td>\n",
       "      <td>...</td>\n",
       "      <td>...</td>\n",
       "      <td>...</td>\n",
       "      <td>...</td>\n",
       "      <td>...</td>\n",
       "      <td>...</td>\n",
       "    </tr>\n",
       "    <tr>\n",
       "      <th>547</th>\n",
       "      <td>Dr. Robert Frable, DO</td>\n",
       "      <td>Male</td>\n",
       "      <td>Crawfordville, FL 32327</td>\n",
       "      <td>Family Medicine</td>\n",
       "      <td>20</td>\n",
       "      <td>Feb 22, 2019</td>\n",
       "      <td>Dr. Frable is an exceptionally able physician ...</td>\n",
       "      <td>Rated 5 out of 5</td>\n",
       "    </tr>\n",
       "    <tr>\n",
       "      <th>548</th>\n",
       "      <td>Dr. Robert Frable, DO</td>\n",
       "      <td>Male</td>\n",
       "      <td>Crawfordville, FL 32327</td>\n",
       "      <td>Family Medicine</td>\n",
       "      <td>20</td>\n",
       "      <td>Jan 16, 2019</td>\n",
       "      <td>Dr. Frable is very knowledgeable, caring, and ...</td>\n",
       "      <td>Rated 5 out of 5</td>\n",
       "    </tr>\n",
       "    <tr>\n",
       "      <th>549</th>\n",
       "      <td>Dr. Robert Frable, DO</td>\n",
       "      <td>Male</td>\n",
       "      <td>Crawfordville, FL 32327</td>\n",
       "      <td>Family Medicine</td>\n",
       "      <td>20</td>\n",
       "      <td>Oct 27, 2018</td>\n",
       "      <td>I have trusted Dr. Frable for many years and h...</td>\n",
       "      <td>Rated 5 out of 5</td>\n",
       "    </tr>\n",
       "    <tr>\n",
       "      <th>550</th>\n",
       "      <td>Dr. Robert Frable, DO</td>\n",
       "      <td>Male</td>\n",
       "      <td>Crawfordville, FL 32327</td>\n",
       "      <td>Family Medicine</td>\n",
       "      <td>20</td>\n",
       "      <td>Oct 22, 2018</td>\n",
       "      <td>Great office, friendly staff, clean and effici...</td>\n",
       "      <td>Rated 5 out of 5</td>\n",
       "    </tr>\n",
       "    <tr>\n",
       "      <th>551</th>\n",
       "      <td>Dr. Robert Frable, DO</td>\n",
       "      <td>Male</td>\n",
       "      <td>Crawfordville, FL 32327</td>\n",
       "      <td>Family Medicine</td>\n",
       "      <td>20</td>\n",
       "      <td>Sep 28, 2018</td>\n",
       "      <td>As always, he shows great concern for my medic...</td>\n",
       "      <td>Rated 5 out of 5</td>\n",
       "    </tr>\n",
       "  </tbody>\n",
       "</table>\n",
       "<p>552 rows × 8 columns</p>\n",
       "</div>"
      ],
      "text/plain": [
       "            Physician Name Physician Sex       Physician Location  \\\n",
       "0     Dr. Marc Harwood, MD          Male   Philadelphia, PA 19107   \n",
       "1     Dr. Marc Harwood, MD          Male   Philadelphia, PA 19107   \n",
       "2     Dr. Marc Harwood, MD          Male   Philadelphia, PA 19107   \n",
       "3     Dr. Marc Harwood, MD          Male   Philadelphia, PA 19107   \n",
       "4     Dr. Marc Harwood, MD          Male   Philadelphia, PA 19107   \n",
       "..                     ...           ...                      ...   \n",
       "547  Dr. Robert Frable, DO          Male  Crawfordville, FL 32327   \n",
       "548  Dr. Robert Frable, DO          Male  Crawfordville, FL 32327   \n",
       "549  Dr. Robert Frable, DO          Male  Crawfordville, FL 32327   \n",
       "550  Dr. Robert Frable, DO          Male  Crawfordville, FL 32327   \n",
       "551  Dr. Robert Frable, DO          Male  Crawfordville, FL 32327   \n",
       "\n",
       "    Physician Specialty Number of Reviews    Review Date  \\\n",
       "0       Sports Medicine                20  Jan 15, 2021    \n",
       "1       Sports Medicine                20  Jan 08, 2021    \n",
       "2       Sports Medicine                20  Oct 11, 2020    \n",
       "3       Sports Medicine                20  Oct 10, 2020    \n",
       "4       Sports Medicine                20  Sep 05, 2020    \n",
       "..                  ...               ...            ...   \n",
       "547     Family Medicine                20  Feb 22, 2019    \n",
       "548     Family Medicine                20  Jan 16, 2019    \n",
       "549     Family Medicine                20  Oct 27, 2018    \n",
       "550     Family Medicine                20  Oct 22, 2018    \n",
       "551     Family Medicine                20  Sep 28, 2018    \n",
       "\n",
       "                                           Review Text     Review Rating  \n",
       "0    Dr Harwood was fully understanding of the issu...  Rated 5 out of 5  \n",
       "1    I was having elbow pain for several months and...  Rated 5 out of 5  \n",
       "2    Dr Harwood listened to my concerns, explained ...  Rated 5 out of 5  \n",
       "3    Minimal wait time . Great Doctor !  Clean envi...  Rated 5 out of 5  \n",
       "4    Fantastic, conscious doctor.  Dr. Harwood take...  Rated 5 out of 5  \n",
       "..                                                 ...               ...  \n",
       "547  Dr. Frable is an exceptionally able physician ...  Rated 5 out of 5  \n",
       "548  Dr. Frable is very knowledgeable, caring, and ...  Rated 5 out of 5  \n",
       "549  I have trusted Dr. Frable for many years and h...  Rated 5 out of 5  \n",
       "550  Great office, friendly staff, clean and effici...  Rated 5 out of 5  \n",
       "551  As always, he shows great concern for my medic...  Rated 5 out of 5  \n",
       "\n",
       "[552 rows x 8 columns]"
      ]
     },
     "execution_count": 146,
     "metadata": {},
     "output_type": "execute_result"
    }
   ],
   "source": [
    "Example_reviews = pd.concat([Physician_Names, Physician_Sex, Physician_Location, Physician_Specialty, Number_of_Reviews, Review_Dates, Review_Texts, Review_Rating], axis = 1)\n",
    "Example_reviews"
   ]
  },
  {
   "cell_type": "code",
   "execution_count": 132,
   "metadata": {
    "scrolled": true
   },
   "outputs": [
    {
     "data": {
      "text/plain": [
       "<StringArray>\n",
       "[        'Dr. Marc Harwood, MD',           'Dr. Paula Hall, MD',\n",
       "      'Dr. Andre Duplantis, MD',        'Dr. Lauren Heavin, MD',\n",
       "         'Dr. Ted Hudspeth, MD',           'Dr. James Wade, MD',\n",
       "       'Dr. Douglas Cutter, MD',      'Dr. Valerie Goodman, DO',\n",
       "  'Dr. Susan Dallas-Feeney, DO', 'Dr. Christopher Holloway, MD',\n",
       "             'Dr. Joe Dunn, MD',      'Dr. Gena Pennington, MD',\n",
       "      'Dr. Patrick Mulcahy, DO',          'Dr. Bogale Jima, MD',\n",
       "         'Dr. Ahmad Aslami, DO',         'Dr. Daniel Jasko, MD',\n",
       "     'Dr. Ambrose Peterman, DO',       'Dr. Maurice Oakley, MD',\n",
       "         'Dr. Philip Weiss, MD',       'Dr. Richard Putnam, MD',\n",
       "        'Dr. Shawn Wallace, MD',           'Dr. Mark James, MD',\n",
       "       'Dr. Philippe Chain, MD',         'Dr. Eugene Eskow, MD',\n",
       "            'Dr. Mark Drew, MD',    'Dr. Shailaja Malhotra, MD',\n",
       "         'Dr. Keith Elkins, MD',           'Dr. Lori Spoor, DO',\n",
       "        'Dr. David Klibert, MD',    'Dr. Christine Martino, DO',\n",
       "      'Dr. Robert Rockower, DO',  'Dr. Salma Mannan-Hilaly, MD',\n",
       "  'Dr. Carolyn Stansberry, DPM',      'Dr. Warren Matthews, MD',\n",
       "            'Dr. John Clay, MD',        'Dr. Charles Bolno, DO',\n",
       "          'Dr. Anna Vedina, MD',      'Dr. Matthew Rhadans, MD',\n",
       "     'Dr. Harry Richardson, MD',         'Dr. Daniel Sikic, DO',\n",
       "       'Dr. Steven Johnson, MD',     'Dr. Antonio Farrales, MD',\n",
       "     'Dr. Christopher Rush, MD',        'Dr. Robert Frable, DO']\n",
       "Length: 44, dtype: string"
      ]
     },
     "execution_count": 132,
     "metadata": {},
     "output_type": "execute_result"
    }
   ],
   "source": [
    "Example_reviews['Physician Name'].unique()"
   ]
  },
  {
   "cell_type": "markdown",
   "metadata": {},
   "source": [
    "### Convert to Excel Sheet"
   ]
  },
  {
   "cell_type": "code",
   "execution_count": 123,
   "metadata": {},
   "outputs": [],
   "source": [
    "Example_reviews.to_csv(r'C:\\Users\\Jake\\Desktop\\UMass Amherst\\Medical Review Research\\Example_reviews.csv', index = False, header=True)"
   ]
  },
  {
   "cell_type": "markdown",
   "metadata": {},
   "source": [
    "## Scrape from Individual Page"
   ]
  },
  {
   "cell_type": "markdown",
   "metadata": {},
   "source": [
    " "
   ]
  },
  {
   "cell_type": "code",
   "execution_count": 133,
   "metadata": {
    "scrolled": true
   },
   "outputs": [],
   "source": [
    "html_text = requests.get('https://www.healthgrades.com/physician/dr-paul-baecher-xcfrf').text\n",
    "soup = BeautifulSoup(html_text, 'lxml')"
   ]
  },
  {
   "cell_type": "markdown",
   "metadata": {},
   "source": [
    "#### Review Date"
   ]
  },
  {
   "cell_type": "code",
   "execution_count": 134,
   "metadata": {},
   "outputs": [
    {
     "data": {
      "text/plain": [
       "'Jul 14, 2017 '"
      ]
     },
     "execution_count": 134,
     "metadata": {},
     "output_type": "execute_result"
    }
   ],
   "source": [
    "review_date = soup.find('div', class_ = 'c-single-comment__commenter-info').find_next('span').find_next('span').text\n",
    "review_date"
   ]
  },
  {
   "cell_type": "markdown",
   "metadata": {},
   "source": [
    "#### Physician's Name"
   ]
  },
  {
   "cell_type": "code",
   "execution_count": 17,
   "metadata": {},
   "outputs": [
    {
     "data": {
      "text/plain": [
       "'Dr. Paul Baecher, MD'"
      ]
     },
     "execution_count": 17,
     "metadata": {},
     "output_type": "execute_result"
    }
   ],
   "source": [
    "doctors_name = soup.find_all('li', class_ = 'breadcrumb-link-container')[3].find('a', class_ = 'breadcrumb-current-page breadcrumb-link').text\n",
    "doctors_name"
   ]
  },
  {
   "cell_type": "markdown",
   "metadata": {},
   "source": [
    "#### Physician's Sex"
   ]
  },
  {
   "cell_type": "markdown",
   "metadata": {},
   "source": [
    "- Since there are 2 different styles of pages, both need to be accounted for:"
   ]
  },
  {
   "cell_type": "markdown",
   "metadata": {},
   "source": [
    "First type:"
   ]
  },
  {
   "cell_type": "code",
   "execution_count": 135,
   "metadata": {},
   "outputs": [],
   "source": [
    "html_text = requests.get('https://www.healthgrades.com/physician/dr-lauren-heavin-xymqgpy').text\n",
    "soup = BeautifulSoup(html_text, 'lxml')"
   ]
  },
  {
   "cell_type": "markdown",
   "metadata": {},
   "source": [
    "Second type:"
   ]
  },
  {
   "cell_type": "code",
   "execution_count": 136,
   "metadata": {},
   "outputs": [],
   "source": [
    "html_text = requests.get('https://www.healthgrades.com/physician/dr-paul-baecher-xcfrf').text\n",
    "soup = BeautifulSoup(html_text, 'lxml')"
   ]
  },
  {
   "cell_type": "markdown",
   "metadata": {},
   "source": [
    "Works for either page:"
   ]
  },
  {
   "cell_type": "code",
   "execution_count": 137,
   "metadata": {},
   "outputs": [
    {
     "name": "stdout",
     "output_type": "stream",
     "text": [
      "Male\n"
     ]
    }
   ],
   "source": [
    "try: \n",
    "    doctors_sex = soup.find('div', class_ = 'summary-column').find_next('span').find_next('span').find_next('span').text\n",
    "    print(doctors_sex)\n",
    "except:\n",
    "    doctors_sex = soup.find('div', class_ = 'summary-designated-header-image-container').find_next('span').find_next('span').find_next('span').text\n",
    "    print(doctors_sex)"
   ]
  },
  {
   "cell_type": "markdown",
   "metadata": {},
   "source": [
    "#### Review Text"
   ]
  },
  {
   "cell_type": "code",
   "execution_count": 13,
   "metadata": {},
   "outputs": [
    {
     "data": {
      "text/plain": [
       "'Very caring and not afraid to refer you to a specialist.\\nNice caring doctor and man, listens well.\\n'"
      ]
     },
     "execution_count": 13,
     "metadata": {},
     "output_type": "execute_result"
    }
   ],
   "source": [
    "review = soup.find('div', class_ = 'c-single-comment__comment').text\n",
    "review"
   ]
  },
  {
   "cell_type": "markdown",
   "metadata": {},
   "source": [
    "#### Review Rating"
   ]
  },
  {
   "cell_type": "code",
   "execution_count": 14,
   "metadata": {},
   "outputs": [
    {
     "data": {
      "text/plain": [
       "'Rated 4 out of 5'"
      ]
     },
     "execution_count": 14,
     "metadata": {},
     "output_type": "execute_result"
    }
   ],
   "source": [
    "review_rating = soup.find('span', class_ = 's6RLV')[\"aria-label\"]\n",
    "review_rating"
   ]
  }
 ],
 "metadata": {
  "kernelspec": {
   "display_name": "Python 3.7.3 64-bit ('Jake': virtualenv)",
   "language": "python",
   "name": "python37364bitjakevirtualenva999d178dd1742efb4d074a8c2cbff29"
  },
  "language_info": {
   "codemirror_mode": {
    "name": "ipython",
    "version": 3
   },
   "file_extension": ".py",
   "mimetype": "text/x-python",
   "name": "python",
   "nbconvert_exporter": "python",
   "pygments_lexer": "ipython3",
   "version": "3.7.9"
  }
 },
 "nbformat": 4,
 "nbformat_minor": 4
}
